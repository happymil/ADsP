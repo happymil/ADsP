{
 "cells": [
  {
   "cell_type": "markdown",
   "metadata": {},
   "source": [
    "## K번째수\n",
    "### 문제 설명\n",
    "배열 array의 i번째 숫자부터 j번째 숫자까지 자르고 정렬했을 때, k번째에 있는 수를 구하려 합니다.\n",
    "예를 들어 array가 [1, 5, 2, 6, 3, 7, 4], i = 2, j = 5, k = 3이라면\n",
    "    1. array의 2번째부터 5번째까지 자르면 [5, 2, 6, 3]입니다.\n",
    "    2. 1에서 나온 배열을 정렬하면 [2, 3, 5, 6]입니다.\n",
    "    3. 2에서 나온 배열의 3번째 숫자는 5입니다.\n",
    "배열 array, [i, j, k]를 원소로 가진 2차원 배열 commands가 매개변수로 주어질 때, commands의 모든 원소에 대해 앞서 설명한 연산을 적용했을 때 나온 결과를 배열에 담아 return 하도록 solution 함수를 작성해주세요.\n",
    "\n",
    "```python\n",
    "# 입력 array\n",
    "[1, 5, 2, 6, 3, 7, 4]\n",
    "# 입력 commands\n",
    "[[2, 5, 3], [4, 4, 1], [1, 7, 3]]\n",
    "# 출력\n",
    "[5, 6, 3]\n",
    "```\n",
    "\n",
    "-- [출처] 프로그래머스 K번째 수"
   ]
  },
  {
   "cell_type": "code",
   "execution_count": 1,
   "metadata": {},
   "outputs": [
    {
     "data": {
      "text/plain": [
       "[]"
      ]
     },
     "execution_count": 1,
     "metadata": {},
     "output_type": "execute_result"
    }
   ],
   "source": [
    "array = [1, 5, 2, 6, 3, 7, 4]\n",
    "commands = [[2, 5, 3], [4, 4, 1], [1, 7, 3]]\n",
    "\n",
    "def solution(array, commands):\n",
    "    answer = []\n",
    "    \n",
    "    # 1. commands의 원소들(리스트)을 탐색\n",
    "    # 2. 1번을 이용하여 array의 숫자를 추출한다\n",
    "    # 3. 2번을 정렬\n",
    "    # 4. 정렬된 3번에서 주어진 n번째 수를 answer에 저장한다\n",
    "    \n",
    "    return answer\n",
    "\n",
    "solution(array, commands)"
   ]
  },
  {
   "cell_type": "code",
   "execution_count": null,
   "metadata": {},
   "outputs": [],
   "source": []
  }
 ],
 "metadata": {
  "kernelspec": {
   "display_name": "Python 3",
   "language": "python",
   "name": "python3"
  },
  "language_info": {
   "codemirror_mode": {
    "name": "ipython",
    "version": 3
   },
   "file_extension": ".py",
   "mimetype": "text/x-python",
   "name": "python",
   "nbconvert_exporter": "python",
   "pygments_lexer": "ipython3",
   "version": "3.7.3"
  }
 },
 "nbformat": 4,
 "nbformat_minor": 2
}
